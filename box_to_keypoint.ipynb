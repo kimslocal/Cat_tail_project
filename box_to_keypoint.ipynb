{
 "cells": [
  {
   "cell_type": "markdown",
   "metadata": {},
   "source": [
    "사용법: \n",
    "\n",
    "Roboflow에서 데이터셋 Export 옵션에서 YOLO v5 Pytorch로 받은 후, 압축폴더를 원하는 directory에다가 해제. \n",
    "box_to_keypoin.ipynb 파일을 data 폴더와 같은 디렉토리에 넣은 후 실행. "
   ]
  },
  {
   "cell_type": "code",
   "execution_count": 161,
   "metadata": {},
   "outputs": [],
   "source": [
    "import json\n",
    "import os\n",
    "import cv2 as cv\n",
    "import matplotlib.pyplot as plt\n",
    "import re"
   ]
  },
  {
   "cell_type": "code",
   "execution_count": 162,
   "metadata": {},
   "outputs": [
    {
     "name": "stdout",
     "output_type": "stream",
     "text": [
      "해당 yaml에 등록된 라벨:  ['cat', 'fu', 'hu', 'neck', 'nose', 'spine', 'tail_0', 'tail_1', 'tail_2', 'tail_3', 'tail_4', 'tail_5']\n"
     ]
    }
   ],
   "source": [
    "yml_path = './data/data.yaml'\n",
    "std_labels = ['tail_0', 'tail_1', 'tail_2', 'tail_3', 'tail_4', 'tail_5' 'spine', 'neck', 'nose', 'fu', 'hu']\n",
    "num_points = len(std_labels) + 1 # cat까지 합쳐서 12개\n",
    "\n",
    "with open(yml_path, 'r') as fp:\n",
    "    raw = fp.readlines()\n",
    "    result = re.findall(\"'.+'\", raw[5])\n",
    "    labels = [i.replace('\\'', '').strip() for i in result[0].split(',')]\n",
    "    print(\"해당 yaml에 등록된 라벨: \", labels)\n"
   ]
  },
  {
   "cell_type": "code",
   "execution_count": 163,
   "metadata": {},
   "outputs": [],
   "source": [
    "label_dict = {i: labels[i] for i in range(1, len(labels))}"
   ]
  },
  {
   "cell_type": "code",
   "execution_count": 164,
   "metadata": {},
   "outputs": [],
   "source": [
    "# keypoint좌표 자동 변경\n",
    "# keypoint 형식 = [x좌표, y좌표, 라벨번호, visibility(0 or 1)]\n",
    "def converter(file_labels:str, file_image:str):\n",
    "    keypoints = []\n",
    "    img = cv.imread(file_image)\n",
    "    img_w, img_h = img.shape[1], img.shape[0]\n",
    "\n",
    "    with open(file_labels) as f:\n",
    "        lines_txt = f.readlines()\n",
    "        lines = []\n",
    "        for line in lines_txt:\n",
    "            lines.append([int(line.split()[0])] + [round(float(coord), 5) for coord in line.split()[1:]])\n",
    "\n",
    "    for line in lines:\n",
    "        if line[0] == 0:\n",
    "            x_c = round(line[1] * img_w)\n",
    "            y_c = round(line[2] * img_h)\n",
    "            w = round(line[3] * img_w)\n",
    "            h = round(line[4] * img_h)\n",
    "            \n",
    "            bboxes = ([round(x_c - w/2), round(y_c - h/2), round(x_c + w/2), round(y_c + h/2)])\n",
    "        \n",
    "        else:\n",
    "            kp_id = line[0]\n",
    "            x_c = round(line[1] * img_w)\n",
    "            y_c = round(line[2] * img_h)\n",
    "            keypoints.append([x_c, y_c, kp_id, 1]) # 기본으로 visibility는 1로 체크\n",
    "\n",
    "    keypoints = sorted(keypoints, key=lambda x: x[2]) # keypoint id기준으로 상향정렬\n",
    "\n",
    "    return bboxes, keypoints\n",
    "\n",
    "\n",
    "# 사진+keypoint+bbox 시각화\n",
    "def visualize(image_path:str, keypoints:list, bboxes:list, save=False):\n",
    "    top_left_corner, bottom_right_corner = tuple([bboxes[0], bboxes[1]]), tuple([bboxes[2], bboxes[3]])\n",
    "    image = cv.imread(image_path)\n",
    "    img = cv.rectangle(image, top_left_corner, bottom_right_corner, (0, 255, 0), 3)\n",
    "    \n",
    "    for kp_idx, kp in enumerate(keypoints):\n",
    "        center = tuple([kp[0], kp[1]])\n",
    "        img = cv.circle(img, center, 5, (255,0,0), 5)\n",
    "        img = cv.putText(img, \" \" + label_dict[kp[2]], center, cv.FONT_HERSHEY_SIMPLEX, 1.0, (255,0,0), 2)\n",
    "    \n",
    "    plt.figure(figsize=(15, 15))\n",
    "    plt.imshow(img)\n",
    "\n",
    "\n",
    "def dump2json(bboxes:list, keypoints: list, json_path: str):\n",
    "    annotations = {}\n",
    "    annotations['bboxes'], annotations['keypoints'] = bboxes, keypoints\n",
    "    with open(json_path, \"w\") as f:\n",
    "        json.dump(annotations, f)\n",
    "\n",
    "\n",
    "def main(IMAGE_PATH:str, LABELS_PATH:str, ANNOTATIONS_PATH:str):\n",
    "    image_file_list = [file.split('.jpg')[0] for file in os.listdir(IMAGE_PATH)]\n",
    "    \n",
    "    \n",
    "    for index, value in enumerate(image_file_list):\n",
    "        label_path = os.path.join(LABELS_PATH, value + \".txt\")\n",
    "        image_path = os.path.join(IMAGE_PATH, value + \".jpg\")\n",
    "        bboxes, keypoints = converter(label_path, image_path)\n",
    "        dump2json(bboxes, keypoints, os.path.join(ANNOTATIONS_PATH, str(index) + '.json'))\n",
    "        \n",
    "        old_name = IMAGE_PATH + value + '.jpg'\n",
    "        new_name = IMAGE_PATH + str(index) + '.jpg'\n",
    "        os.rename(old_name, new_name)\n",
    "\n",
    "        "
   ]
  },
  {
   "cell_type": "code",
   "execution_count": 165,
   "metadata": {},
   "outputs": [],
   "source": [
    "TRAIN_PATH = './data/train/'\n",
    "TEST_PATH = './data/test/'\n",
    "\n",
    "# annotations 폴더 생성\n",
    "\n",
    "for i in [TRAIN_PATH, TEST_PATH]:\n",
    "    try:\n",
    "        if not os.path.exists(i + '/annotations'):\n",
    "            os.makedirs(i + '/annotations')\n",
    "    except OSError:\n",
    "        print(\"Error while creating the data directory\")"
   ]
  },
  {
   "cell_type": "code",
   "execution_count": 166,
   "metadata": {},
   "outputs": [],
   "source": [
    "# 화이팅!\n",
    "main(TRAIN_PATH + 'images/', TRAIN_PATH + 'labels/',  TRAIN_PATH + 'annotations/')\n",
    "\n",
    "main(TEST_PATH + 'images/', TEST_PATH + 'labels/',  TEST_PATH + 'annotations/')"
   ]
  },
  {
   "cell_type": "code",
   "execution_count": 160,
   "metadata": {},
   "outputs": [],
   "source": [
    "failed_files = [] \n",
    "no = 0\n",
    "for j in [TRAIN_PATH]:\n",
    "    for i in sorted(os.listdir(os.path.join(j, \"annotations\"))):\n",
    "        file = os.path.join(j, \"annotations\", i)\n",
    "        with open(file) as fp:\n",
    "            data = json.load(fp)\n",
    "            if len(data['keypoints']) != 11:\n",
    "                failed_files.append(i)\n",
    "                print(data['bboxes'])\n",
    "                print(data['keypoints'])\n",
    "                print(f\"형식 문제 있음. 오류가 있는 파일은 {i}이고, 육안점검을 추천하고, 자동으로 문제 있는 파일들을 현재 로컬 저장소에서 삭제하고자 할 경우 다음 셀을 실행하세요\")"
   ]
  },
  {
   "cell_type": "code",
   "execution_count": null,
   "metadata": {},
   "outputs": [],
   "source": []
  }
 ],
 "metadata": {
  "kernelspec": {
   "display_name": "Python 3.9.12 ('sql_env')",
   "language": "python",
   "name": "python3"
  },
  "language_info": {
   "codemirror_mode": {
    "name": "ipython",
    "version": 3
   },
   "file_extension": ".py",
   "mimetype": "text/x-python",
   "name": "python",
   "nbconvert_exporter": "python",
   "pygments_lexer": "ipython3",
   "version": "3.9.12"
  },
  "orig_nbformat": 4,
  "vscode": {
   "interpreter": {
    "hash": "be1ddbaa21dce8d5ef352044d757d28324c4090c88746f4ef5420a91947fd076"
   }
  }
 },
 "nbformat": 4,
 "nbformat_minor": 2
}
