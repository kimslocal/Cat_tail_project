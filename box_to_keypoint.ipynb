{
 "cells": [
  {
   "cell_type": "markdown",
   "metadata": {},
   "source": [
    "사용법: \n",
    "\n",
    "Roboflow에서 데이터셋 Export 옵션에서 YOLO v5 Pytorch로 받은 후, 압축폴더를 원하는 directory에다가 해제. \n",
    "box_to_keypoin.ipynb 파일을 data 폴더와 같은 디렉토리에 넣은 후 실행. "
   ]
  },
  {
   "cell_type": "code",
   "execution_count": null,
   "metadata": {},
   "outputs": [],
   "source": [
    "import json\n",
    "import os\n",
    "import cv2 as cv\n",
    "import matplotlib.pyplot as plt\n",
    "import re"
   ]
  },
  {
   "cell_type": "code",
   "execution_count": 99,
   "metadata": {},
   "outputs": [
    {
     "name": "stdout",
     "output_type": "stream",
     "text": [
      "['cat', 'left_ear', 'left_front_leg_bottom', 'left_front_leg_upper', 'left_hind_leg_bottom', 'left_hind_leg_upper', 'neck', 'nose', 'right_ear', 'right_front_leg_bottom', 'right_front_leg_upper', 'right_hind_leg_bottom', 'right_hind_leg_upper', 'spine', 'spine_middle', 'stomach', 'tail_0', 'tail_1', 'tail_2', 'tail_3', 'tail_4', 'tail_5']\n",
      "라벨 숫자 안 맞음 \n"
     ]
    }
   ],
   "source": [
    "yml_path = './data/train/data.yaml'\n",
    "num_points = 12\n",
    "\n",
    "with open(yml_path, 'r') as fp:\n",
    "    raw = fp.readlines()\n",
    "    # print(raw[5])\n",
    "    result = re.findall(\"'.+'\", raw[5])\n",
    "    labels = [i.replace('\\'', '').strip() for i in result[0].split(',')]\n",
    "    print(labels)\n",
    "\n",
    "if num_points != len(labels):\n",
    "    print(\"라벨 숫자 안 맞음 \")"
   ]
  },
  {
   "cell_type": "code",
   "execution_count": 100,
   "metadata": {},
   "outputs": [],
   "source": [
    "label_dict = {i: labels[i] for i in range(1, len(labels))}"
   ]
  },
  {
   "cell_type": "code",
   "execution_count": 111,
   "metadata": {},
   "outputs": [],
   "source": [
    "# keypoint좌표 자동 변경\n",
    "# keypoint 형식 = [x좌표, y좌표, 라벨번호, visibility(0 or 1)]\n",
    "def converter(file_labels:str, file_image:str):\n",
    "    keypoints = []\n",
    "    img = cv.imread(file_image)\n",
    "    img_w, img_h = img.shape[1], img.shape[0]\n",
    "\n",
    "    with open(file_labels) as f:\n",
    "        lines_txt = f.readlines()\n",
    "        lines = []\n",
    "        for line in lines_txt:\n",
    "            lines.append([int(line.split()[0])] + [round(float(coord), 5) for coord in line.split()[1:]])\n",
    "\n",
    "    for line in lines:\n",
    "        if line[0] == 0:\n",
    "            x_c = round(line[1] * img_w)\n",
    "            y_c = round(line[2] * img_h)\n",
    "            w = round(line[3] * img_w)\n",
    "            h = round(line[4] * img_h)\n",
    "            \n",
    "            bboxes = ([round(x_c - w/2), round(y_c - h/2), round(x_c + w/2), round(y_c + h/2)])\n",
    "        \n",
    "        else:\n",
    "            kp_id = line[0]\n",
    "            x_c = round(line[1] * img_w)\n",
    "            y_c = round(line[2] * img_h)\n",
    "            keypoints.append([x_c, y_c, kp_id, 1]) # 기본으로 visibility는 1로 체크\n",
    "\n",
    "    keypoints = sorted(keypoints, key=lambda x: x[2]) # keypoint id기준으로 상향정렬\n",
    "\n",
    "    return bboxes, keypoints\n",
    "\n",
    "\n",
    "# 사진+keypoint+bbox 시각화\n",
    "def visualize(image_path:str, keypoints:list, bboxes:list, save=False):\n",
    "    top_left_corner, bottom_right_corner = tuple([bboxes[0], bboxes[1]]), tuple([bboxes[2], bboxes[3]])\n",
    "    image = cv.imread(image_path)\n",
    "    img = cv.rectangle(image, top_left_corner, bottom_right_corner, (0, 255, 0), 3)\n",
    "    \n",
    "    for kp_idx, kp in enumerate(keypoints):\n",
    "        center = tuple([kp[0], kp[1]])\n",
    "        img = cv.circle(img, center, 5, (255,0,0), 5)\n",
    "        img = cv.putText(img, \" \" + label_dict[kp[2]], center, cv.FONT_HERSHEY_SIMPLEX, 1.0, (255,0,0), 2)\n",
    "    \n",
    "    plt.figure(figsize=(15, 15))\n",
    "    plt.imshow(img)\n",
    "\n",
    "\n",
    "def dump2json(bboxes:list, keypoints: list, json_path: str):\n",
    "    annotations = {}\n",
    "    annotations['bboxes'], annotations['keypoints'] = bboxes, keypoints\n",
    "    with open(json_path, \"w\") as f:\n",
    "        json.dump(annotations, f)\n",
    "\n",
    "\n",
    "def main(IMAGE_PATH:str, LABELS_PATH:str, ANNOTATIONS_PATH:str):\n",
    "    \n",
    "\n",
    "    image_file_list = [file.split('.jpg')[0] for file in os.listdir(IMAGE_PATH)]\n",
    "    \n",
    "    try:\n",
    "        for i in image_file_list:\n",
    "            label_path = os.path.join(LABELS_PATH, i + \".txt\")\n",
    "            image_path = os.path.join(IMAGE_PATH, i + \".jpg\")\n",
    "            bboxes, keypoints = converter(label_path, image_path)\n",
    "            dump2json(bboxes, keypoints, os.path.join(ANNOTATIONS_PATH, i + '.json'))\n",
    "        else:\n",
    "            print(\"All Converted\")\n",
    "    except:\n",
    "        \"Error!\"\n",
    "        \n",
    "    "
   ]
  },
  {
   "cell_type": "code",
   "execution_count": 112,
   "metadata": {},
   "outputs": [
    {
     "name": "stdout",
     "output_type": "stream",
     "text": [
      "All Converted\n"
     ]
    }
   ],
   "source": [
    "IMAGE_PATH = './data/train/images/'\n",
    "LABELS_PATH = './data/train/labels/'\n",
    "ANNOTATIONS_PATH = './data/train/annotations/'\n",
    "\n",
    "# annotations 폴더 생성\n",
    "try:\n",
    "    if not os.path.exists(ANNOTATIONS_PATH ):\n",
    "        os.makedirs(ANNOTATIONS_PATH )\n",
    "except OSError:\n",
    "    print(\"Error while creating the data directory\")"
   ]
  },
  {
   "cell_type": "code",
   "execution_count": null,
   "metadata": {},
   "outputs": [],
   "source": [
    "# 화이팅!\n",
    "main(IMAGE_PATH, LABELS_PATH, ANNOTATIONS_PATH)"
   ]
  }
 ],
 "metadata": {
  "kernelspec": {
   "display_name": "Python 3.9.12 ('sql_env')",
   "language": "python",
   "name": "python3"
  },
  "language_info": {
   "codemirror_mode": {
    "name": "ipython",
    "version": 3
   },
   "file_extension": ".py",
   "mimetype": "text/x-python",
   "name": "python",
   "nbconvert_exporter": "python",
   "pygments_lexer": "ipython3",
   "version": "3.9.12"
  },
  "orig_nbformat": 4,
  "vscode": {
   "interpreter": {
    "hash": "be1ddbaa21dce8d5ef352044d757d28324c4090c88746f4ef5420a91947fd076"
   }
  }
 },
 "nbformat": 4,
 "nbformat_minor": 2
}
