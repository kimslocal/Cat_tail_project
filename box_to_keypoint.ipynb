{
 "cells": [
  {
   "cell_type": "markdown",
   "metadata": {},
   "source": [
    "사용법: \n",
    "\n",
    "Roboflow에선 Keypoint라벨링을 지원하지않으므로 대신 keypoint를 찍고 싶은 위치에 Bounding box를 넣고 다운받은 뒤 \n",
     "해당 스크립트를 실행해서 keypoint로 변환하면 됩니다. \n",
    "Roboflow에서 데이터셋 Export 옵션에서 YOLO v5 Pytorch로 받은 후, 압축폴더를 원하는 directory에다가 해제. \n",
    "box_to_keypoin.ipynb 파일을 data 폴더와 같은 디렉토리에 넣은 후 실행하면 됩니다. \n", 
    "주의할 점: roboflow에서 keypoint라벨링 할 때 keypoint 이름 통일 안 하면 오류납니다."
   ]
  },
  {
   "cell_type": "code",
   "execution_count": 2,
   "metadata": {},
   "outputs": [],
   "source": [
    "import json\n",
    "import os\n",
    "import cv2 as cv\n",
    "import matplotlib.pyplot as plt\n",
    "import re"
   ]
  },
  {
   "cell_type": "code",
   "execution_count": 3,
   "metadata": {},
   "outputs": [
    {
     "name": "stdout",
     "output_type": "stream",
     "text": [
      "['cat', 'fu', 'hu', 'neck', 'nose', 'spine', 'tail0', 'tail1', 'tail2', 'tail3', 'tail4', 'tail5', 'tail_0', 'tail_1', 'tail_2', 'tail_3', 'tail_4', 'tail_5']\n",
      "라벨 숫자 안 맞음 \n"
     ]
    }
   ],
   "source": [
    "yml_path = './data/data.yaml'\n",
    "num_points = 12\n",
    "\n",
    "# std_labels = ['tail_0', 'tail_1', 'tail_2', 'tail_3', 'tail_4', 'tail_5' 'spine', 'neck', 'nose', 'fu', 'hu']\n",
    "\n",
    "with open(yml_path, 'r') as fp:\n",
    "    raw = fp.readlines()\n",
    "\n",
    "    # print(raw[5])\n",
    "    result = re.findall(\"'.+'\", raw[5])\n",
    "    labels = [i.replace('\\'', '').strip() for i in result[0].split(',')]\n",
    "    print(labels)\n",
    "\n",
    "if num_points != len(labels):\n",
    "    print(\"라벨 숫자 안 맞음 \")\n",
    "\n",
    "\"\"\"\n",
    "if set(std_labels).intersect()\n",
    "\n",
    "\"\"\"\n",
    "labels = ['cat', 'fu', 'hu', 'neck', 'nose', 'spine', 'tail_0', 'tail_1', 'tail_2', 'tail_3', 'tail_4', 'tail_5']"
   ]
  },
  {
   "cell_type": "code",
   "execution_count": 5,
   "metadata": {},
   "outputs": [
    {
     "data": {
      "text/plain": [
       "{1: 'fu',\n",
       " 2: 'hu',\n",
       " 3: 'neck',\n",
       " 4: 'nose',\n",
       " 5: 'spine',\n",
       " 6: 'tail_0',\n",
       " 7: 'tail_1',\n",
       " 8: 'tail_2',\n",
       " 9: 'tail_3',\n",
       " 10: 'tail_4',\n",
       " 11: 'tail_5'}"
      ]
     },
     "execution_count": 5,
     "metadata": {},
     "output_type": "execute_result"
    }
   ],
   "source": [
    "label_dict = {i: labels[i] for i in range(1, len(labels))}\n",
    "label_dict"
   ]
  },
  {
   "cell_type": "code",
   "execution_count": 6,
   "metadata": {},
   "outputs": [],
   "source": [
    "# keypoint좌표 자동 변경\n",
    "# keypoint 형식 = [x좌표, y좌표, 라벨번호, visibility(0 or 1)]\n",
    "def converter(file_labels:str, file_image:str):\n",
    "    keypoints = []\n",
    "    img = cv.imread(file_image)\n",
    "    img_w, img_h = img.shape[1], img.shape[0]\n",
    "\n",
    "    with open(file_labels) as f:\n",
    "        lines_txt = f.readlines()\n",
    "        lines = []\n",
    "        for line in lines_txt:\n",
    "            lines.append([int(line.split()[0])] + [round(float(coord), 5) for coord in line.split()[1:]])\n",
    "\n",
    "    for line in lines:\n",
    "        if line[0] == 0:\n",
    "            x_c = round(line[1] * img_w)\n",
    "            y_c = round(line[2] * img_h)\n",
    "            w = round(line[3] * img_w)\n",
    "            h = round(line[4] * img_h)\n",
    "            \n",
    "            bboxes = ([round(x_c - w/2), round(y_c - h/2), round(x_c + w/2), round(y_c + h/2)])\n",
    "        \n",
    "        else:\n",
    "            kp_id = line[0]\n",
    "            x_c = round(line[1] * img_w)\n",
    "            y_c = round(line[2] * img_h)\n",
    "            keypoints.append([x_c, y_c, kp_id, 1]) # 기본으로 visibility는 1로 체크\n",
    "\n",
    "    keypoints = sorted(keypoints, key=lambda x: x[2]) # keypoint id기준으로 상향정렬\n",
    "\n",
    "    # print(file_labels)\n",
    "    try:\n",
    "        return bboxes, keypoints\n",
    "    except:\n",
    "        print(f\"오류: {file_image}\")\n",
    "\n",
    "\n",
    "# 사진+keypoint+bbox 시각화\n",
    "def visualize(image_path:str, keypoints:list, bboxes:list, save=False):\n",
    "    top_left_corner, bottom_right_corner = tuple([bboxes[0], bboxes[1]]), tuple([bboxes[2], bboxes[3]])\n",
    "    image = cv.imread(image_path)\n",
    "    img = cv.rectangle(image, top_left_corner, bottom_right_corner, (0, 255, 0), 3)\n",
    "    \n",
    "    for kp_idx, kp in enumerate(keypoints):\n",
    "        center = tuple([kp[0], kp[1]])\n",
    "        img = cv.circle(img, center, 1, (255,0,0), 5)\n",
    "        img = cv.putText(img, \" \" + label_dict[kp[2]], center, cv.FONT_HERSHEY_SIMPLEX, 0.5, (255,0,0), 2)\n",
    "    \n",
    "    plt.figure(figsize=(15, 15))\n",
    "    plt.imshow(img)\n",
    "\n",
    "\n",
    "def dump2json(bboxes:list, keypoints: list, json_path: str):\n",
    "    annotations = {}\n",
    "    annotations['bboxes'], annotations['keypoints'] = bboxes, keypoints\n",
    "    with open(json_path, \"w\") as f:\n",
    "        json.dump(annotations, f)\n",
    "\n",
    "\n",
    "def main(IMAGE_PATH:str, LABELS_PATH:str, ANNOTATIONS_PATH:str):\n",
    "    image_file_list = [file.split('.jpg')[0] for file in os.listdir(IMAGE_PATH)]\n",
    "    print(len(image_file_list))\n",
    "    count = 0\n",
    "    for i in image_file_list:\n",
    "        label_path = os.path.join(LABELS_PATH, i + \".txt\")\n",
    "        image_path = os.path.join(IMAGE_PATH, i + \".jpg\")\n",
    "        bboxes, keypoints = converter(label_path, image_path)\n",
    "        count += 1\n",
    "        \n",
    "        dump2json(bboxes, keypoints, os.path.join(ANNOTATIONS_PATH, i + '.json'))\n",
    "    else:\n",
    "        print(\"All Converted\")"
   ]
  },
  {
   "cell_type": "code",
   "execution_count": 34,
   "metadata": {},
   "outputs": [],
   "source": [
    "IMAGE_PATH = './data/train/images/'\n",
    "LABELS_PATH = './data/train/labels/'\n",
    "ANNOTATIONS_PATH = './data/train/annotations/'\n",
    "\n",
    "# annotations 폴더 생성\n",
    "try:\n",
    "    if not os.path.exists(ANNOTATIONS_PATH ):\n",
    "        os.makedirs(ANNOTATIONS_PATH )\n",
    "except OSError:\n",
    "    print(\"Error while creating the data directory\")"
   ]
  },
  {
   "cell_type": "code",
   "execution_count": 8,
   "metadata": {},
   "outputs": [
    {
     "name": "stdout",
     "output_type": "stream",
     "text": [
      "514\n",
      "All Converted\n"
     ]
    }
   ],
   "source": [
    "# 화이팅!\n",
    "main(IMAGE_PATH, LABELS_PATH, ANNOTATIONS_PATH)"
   ]
  },
  {
   "cell_type": "code",
   "execution_count": 46,
   "metadata": {},
   "outputs": [],
   "source": [
    "# 파일이름 바꾸기\n",
    "\n",
    "import json\n",
    "file_list = [file.split('.jpg')[0] for file in os.listdir(IMAGE_PATH)]\n",
    "\n",
    "\n",
    "for id, file in enumerate(file_list):\n",
    "    old_js = ANNOTATIONS_PATH + file + '.json'\n",
    "    new_js = ANNOTATIONS_PATH + str(id) + '.json'\n",
    "\n",
    "    old_img = IMAGE_PATH + file + '.jpg'\n",
    "    new_img = IMAGE_PATH + str(id) + '.jpg'\n",
    "    os.rename(old_js, new_js)\n",
    "    os.rename(old_img, new_img)"
   ]
  }
 ],
 "metadata": {
  "kernelspec": {
   "display_name": "Python 3.9.12 ('sql_env')",
   "language": "python",
   "name": "python3"
  },
  "language_info": {
   "codemirror_mode": {
    "name": "ipython",
    "version": 3
   },
   "file_extension": ".py",
   "mimetype": "text/x-python",
   "name": "python",
   "nbconvert_exporter": "python",
   "pygments_lexer": "ipython3",
   "version": "3.9.12"
  },
  "orig_nbformat": 4,
  "vscode": {
   "interpreter": {
    "hash": "be1ddbaa21dce8d5ef352044d757d28324c4090c88746f4ef5420a91947fd076"
   }
  }
 },
 "nbformat": 4,
 "nbformat_minor": 2
}
